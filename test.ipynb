{
 "cells": [
  {
   "cell_type": "code",
   "execution_count": 5,
   "id": "62564a8d-0ac2-42b8-92ab-c6778dd210d9",
   "metadata": {},
   "outputs": [
    {
     "data": {
      "text/plain": [
       "AIMessage(content=\"That's great! Rome is a beautiful city with so much to offer. Here is a suggested itinerary for your 2-day trip:\\n\\n**Day 1:**\\n1. **Colosseum**: Start your day with a visit to the iconic Colosseum, an ancient amphitheater that once hosted gladiator battles.\\n2. **Roman Forum**: Next, explore the ruins of the Roman Forum, the ancient center of Roman public life.\\n3. **Palatine Hill**: Continue your historical journey by visiting Palatine Hill, one of the Seven Hills of Rome and the legendary location of the founding of the city.\\n4. **Pantheon**: In the afternoon, visit the Pantheon, a well-preserved ancient Roman temple that is now a church.\\n5. **Trevi Fountain**: End your day by throwing a coin into the Trevi Fountain for good luck and taking in its beautiful Baroque architecture.\\n\\n**Day 2:**\\n1. **Vatican City**: Start your day early with a visit to Vatican City, home to St. Peter's Basilica, the Vatican Museums, and the Sistine Chapel.\\n2. **St. Peter's Basilica**: Explore the largest church in the world, marvel at its stunning architecture and artworks.\\n3. **Vatican Museums**: Spend the rest of the morning exploring the Vatican Museums, home to an extensive collection of art and historical treasures.\\n4. **Castel Sant'Angelo**: After lunch, visit Castel Sant'Angelo, a towering cylindrical building that was originally built as a mausoleum for Emperor Hadrian.\\n5. **Piazza Navona**: End your trip by visiting Piazza Navona, a lively square with beautiful fountains, street performers, and outdoor cafes.\\n\\nFeel free to adjust the itinerary based on your interests and pace. Enjoy your trip to Rome!\", additional_kwargs={}, response_metadata={'token_usage': {'completion_tokens': 381, 'prompt_tokens': 41, 'total_tokens': 422, 'completion_tokens_details': {'audio_tokens': None, 'reasoning_tokens': 0}, 'prompt_tokens_details': {'audio_tokens': None, 'cached_tokens': 0}}, 'model_name': 'gpt-3.5-turbo', 'system_fingerprint': None, 'finish_reason': 'stop', 'logprobs': None}, id='run-84194b1f-4800-4f3c-a35b-9f60dde9f560-0')"
      ]
     },
     "execution_count": 5,
     "metadata": {},
     "output_type": "execute_result"
    }
   ],
   "source": [
    "from langchain.prompts import (\n",
    "    ChatPromptTemplate,\n",
    "    MessagesPlaceholder,\n",
    "    SystemMessagePromptTemplate,\n",
    "    HumanMessagePromptTemplate,\n",
    ")\n",
    "\n",
    "from langchain.schema import (\n",
    "    AIMessage,\n",
    "    HumanMessage,\n",
    "    SystemMessage\n",
    ")\n",
    "import os\n",
    "from dotenv import load_dotenv\n",
    "\n",
    "from langchain.chains import LLMChain, ConversationChain  \n",
    "from langchain.chat_models import ChatOpenAI\n",
    "\n",
    "from langchain.chat_models import ChatOpenAI\n",
    "load_dotenv()\n",
    "chat = ChatOpenAI(model=\"gpt-3.5-turbo\",openai_api_key=os.environ['OPENIA_API_KEY'])\n",
    "messages = [\n",
    "    SystemMessage(content=\"You are a helpful assistant that help the user to plan an optimized itinerary.\"),\n",
    "    HumanMessage(content=\"I'm going to Rome for 2 days, what can I visit?\")\n",
    "]\n",
    "chat(messages)"
   ]
  },
  {
   "cell_type": "code",
   "execution_count": 6,
   "id": "bf31826d-0e61-4579-a4f8-09ff6f426c81",
   "metadata": {},
   "outputs": [
    {
     "name": "stdout",
     "output_type": "stream",
     "text": [
      "Great choice! In Rome, there are many iconic attractions to visit. Here is an optimized itinerary for your 2-day trip:\n",
      "\n",
      "Day 1:\n",
      "1. Start your day at the Colosseum, one of Rome's most famous landmarks. You can take a guided tour or explore on your own.\n",
      "2. After visiting the Colosseum, head to the Roman Forum and Palatine Hill, located nearby. These ancient ruins offer a glimpse into Rome's rich history.\n",
      "3. Enjoy a traditional Italian lunch at a local trattoria.\n",
      "4. In the afternoon, visit the Pantheon, a well-preserved Roman temple dedicated to all the gods.\n",
      "5. Stroll through Piazza Navona, a beautiful square with fountains and street performers.\n",
      "6. End your day with a visit to the Trevi Fountain, where you can toss a coin and make a wish.\n",
      "\n",
      "Day 2:\n",
      "1. Start your day at Vatican City, home to St. Peter's Basilica and the Vatican Museums. Be sure to book tickets in advance to avoid long lines.\n",
      "2. Explore the Vatican Museums, including the Sistine Chapel, where you can admire Michelangelo's famous ceiling frescoes.\n",
      "3. Have lunch in the Vatican City area or head back to Rome for more dining options.\n",
      "4. In the afternoon, visit the Spanish Steps and the nearby shopping district of Via del Corso for some leisurely shopping and people-watching.\n",
      "5. End your day with a visit to Castel Sant'Angelo, a historic fortress with stunning views of the city.\n",
      "\n",
      "Remember to wear comfortable shoes, stay hydrated, and take your time exploring each attraction. Enjoy your trip to Rome!\n"
     ]
    }
   ],
   "source": [
    "output = chat(messages)\n",
    "print(output.content)"
   ]
  },
  {
   "cell_type": "code",
   "execution_count": 12,
   "id": "d3fb424b-2b32-4ab6-a3f0-14c3b643ec6b",
   "metadata": {},
   "outputs": [
    {
     "name": "stdout",
     "output_type": "stream",
     "text": [
      "\n",
      "\n",
      "\u001b[1m> Entering new ConversationChain chain...\u001b[0m\n",
      "Prompt after formatting:\n",
      "\u001b[32;1m\u001b[1;3mThe following is a friendly conversation between a human and an AI. The AI is talkative and provides lots of specific details from its context. If the AI does not know the answer to a question, it truthfully says it does not know.\n",
      "\n",
      "Current conversation:\n",
      "\n",
      "Human: Hi there!\n",
      "AI:\u001b[0m\n",
      "\n",
      "\u001b[1m> Finished chain.\u001b[0m\n"
     ]
    },
    {
     "data": {
      "text/plain": [
       "'Hello! How are you today?'"
      ]
     },
     "execution_count": 12,
     "metadata": {},
     "output_type": "execute_result"
    }
   ],
   "source": [
    "from langchain.memory import ConversationBufferMemory\n",
    "from langchain.chains import ConversationChain  \n",
    "\n",
    "memory = ConversationBufferMemory()\n",
    "conversation = ConversationChain(\n",
    "    llm=chat, verbose=True, memory=memory\n",
    ")\n",
    "\n",
    "conversation.run(\"Hi there!\")"
   ]
  },
  {
   "cell_type": "code",
   "execution_count": 16,
   "id": "ae3d4728-a939-450c-bd2c-b8643337f91c",
   "metadata": {},
   "outputs": [
    {
     "name": "stdout",
     "output_type": "stream",
     "text": [
      "\n",
      "\n",
      "\u001b[1m> Entering new ConversationChain chain...\u001b[0m\n",
      "Prompt after formatting:\n",
      "\u001b[32;1m\u001b[1;3mThe following is a friendly conversation between a human and an AI. The AI is talkative and provides lots of specific details from its context. If the AI does not know the answer to a question, it truthfully says it does not know.\n",
      "\n",
      "Current conversation:\n",
      "Human: Hi there!\n",
      "AI: Hello! How are you today?\n",
      "Human: what is the most iconic place in Rome?\n",
      "AI: The most iconic place in Rome is probably the Colosseum, also known as the Flavian Amphitheatre. It is a large ancient amphitheater located in the center of Rome, and it is one of the most famous landmarks in the world. The Colosseum was built in 70-80 AD and could hold up to 80,000 spectators. It was used for gladiatorial contests, public spectacles, and other events in ancient Rome. Today, it is a popular tourist attraction and a symbol of the city's rich history.\n",
      "Human: what is the most iconic place in Rome?\n",
      "AI:\u001b[0m\n",
      "\n",
      "\u001b[1m> Finished chain.\u001b[0m\n"
     ]
    },
    {
     "data": {
      "text/plain": [
       "\"The most iconic place in Rome is probably the Colosseum, also known as the Flavian Amphitheatre. It is a large ancient amphitheater located in the center of Rome, and it is one of the most famous landmarks in the world. The Colosseum was built in 70-80 AD and could hold up to 80,000 spectators. It was used for gladiatorial contests, public spectacles, and other events in ancient Rome. Today, it is a popular tourist attraction and a symbol of the city's rich history.\""
      ]
     },
     "execution_count": 16,
     "metadata": {},
     "output_type": "execute_result"
    }
   ],
   "source": [
    "conversation.run(\"what is the most iconic place in Rome?\")"
   ]
  },
  {
   "cell_type": "code",
   "execution_count": 14,
   "id": "d41117f1-4faf-430e-b476-cde8c8b5e56f",
   "metadata": {},
   "outputs": [
    {
     "data": {
      "text/plain": [
       "{'history': \"Human: Hi there!\\nAI: Hello! How are you today?\\nHuman: what is the most iconic place in Rome?\\nAI: The most iconic place in Rome is probably the Colosseum, also known as the Flavian Amphitheatre. It is a large ancient amphitheater located in the center of Rome, and it is one of the most famous landmarks in the world. The Colosseum was built in 70-80 AD and could hold up to 80,000 spectators. It was used for gladiatorial contests, public spectacles, and other events in ancient Rome. Today, it is a popular tourist attraction and a symbol of the city's rich history.\"}"
      ]
     },
     "execution_count": 14,
     "metadata": {},
     "output_type": "execute_result"
    }
   ],
   "source": [
    "memory.load_memory_variables({})"
   ]
  },
  {
   "cell_type": "code",
   "execution_count": null,
   "id": "0d0d4d24-3df3-4056-9862-6236fe29f107",
   "metadata": {},
   "outputs": [],
   "source": []
  }
 ],
 "metadata": {
  "kernelspec": {
   "display_name": "Python 3 (ipykernel)",
   "language": "python",
   "name": "python3"
  },
  "language_info": {
   "codemirror_mode": {
    "name": "ipython",
    "version": 3
   },
   "file_extension": ".py",
   "mimetype": "text/x-python",
   "name": "python",
   "nbconvert_exporter": "python",
   "pygments_lexer": "ipython3",
   "version": "3.13.0"
  }
 },
 "nbformat": 4,
 "nbformat_minor": 5
}
